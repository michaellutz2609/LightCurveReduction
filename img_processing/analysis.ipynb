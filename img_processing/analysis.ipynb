{
 "cells": [
  {
   "cell_type": "code",
   "execution_count": null,
   "metadata": {},
   "outputs": [],
   "source": [
    "import analysis_toolkit as tk"
   ]
  },
  {
   "cell_type": "code",
   "execution_count": null,
   "metadata": {
    "scrolled": true
   },
   "outputs": [],
   "source": [
    "context = {\n",
    "    \"file_name\": \"../data/ser/2021-06-07/03_34_00_pipp.ser\",\n",
    "    \"step\": 1,\n",
    "    \"fwhm\": 22.0,\n",
    "    \"factor\": 60.0,\n",
    "    \"aperture_factor_inner\": 1.0,\n",
    "    \"aperture_factor_outer\": 1.3\n",
    "}\n",
    "analyzer = tk.get_default_tk(context)\n",
    "analyzer.load_analysis()"
   ]
  },
  {
   "cell_type": "code",
   "execution_count": null,
   "metadata": {},
   "outputs": [],
   "source": [
    "import matplotlib.pyplot as plt\n",
    "from matplotlib.axes import Axes\n",
    "from matplotlib.figure import Figure\n",
    "import matplotlib.dates as mdates\n",
    "import math\n",
    "\n",
    "fig_rows, fig_cols = 1, 1\n",
    "ap_factor = 3.0\n",
    "fig: Figure = plt.figure(figsize=(16, 9), dpi=300)\n",
    "ax: Axes = fig.add_subplot(fig_rows, fig_cols, 1)\n",
    "tk.plot_by_group_lambda_xy(ax, analyzer.objects_apertures_timestamps({analyzer.fwhm * ap_factor}), \n",
    "                           tk.x_datetime, lambda table: table[tk.key_ap_factor(ap_factor)]/((analyzer.fwhm * ap_factor)**2*math.pi))\n",
    "\n",
    "font = {'fontname':'Times New Roman'}\n",
    "ax.grid()\n",
    "ax.xaxis.set_major_formatter(mdates.DateFormatter(\"%H:%M\"))\n",
    "fmt_minutes = mdates.MinuteLocator()\n",
    "ax.xaxis.set_minor_locator(fmt_minutes)\n",
    "ax.set_xlabel('h(UTC)', fontsize=16, **font)\n",
    "ax.set_ylabel('flux', fontsize=16, **font)\n",
    "ax.set_title('J1 ECL J2 07 JUN 2021\\nTribsees-T28', fontsize=20, **font)\n",
    "ax.legend()\n",
    "\n",
    "plt.show()"
   ]
  },
  {
   "cell_type": "code",
   "execution_count": null,
   "metadata": {},
   "outputs": [],
   "source": [
    "import matplotlib.pyplot as plt\n",
    "from matplotlib.axes import Axes\n",
    "from matplotlib.figure import Figure\n",
    "\n",
    "fig_rows, fig_cols = 1, 1\n",
    "fac_1, fac_2 = 1.3, 1.8\n",
    "fig: Figure = plt.figure(figsize=(16, 9), dpi=300)\n",
    "ax: Axes = fig.add_subplot(fig_rows, fig_cols, 1)\n",
    "tk.plot_by_group_lambda_xy(ax, analyzer.objects_apertures_timestamps({analyzer.fwhm * fac_1, analyzer.fwhm * fac_2}), \n",
    "                           tk.x_datetime, lambda table: tk.local_background(table, fac_1, fac_2))\n",
    "\n",
    "font = {'fontname':'Times New Roman'}\n",
    "ax.grid()\n",
    "ax.xaxis.set_major_formatter(mdates.DateFormatter(\"%H:%M\"))\n",
    "fmt_minutes = mdates.MinuteLocator()\n",
    "ax.xaxis.set_minor_locator(fmt_minutes)\n",
    "ax.set_xlabel('h(UTC)', fontsize=16, **font)\n",
    "ax.set_ylabel('sky background', fontsize=16, **font)\n",
    "ax.set_title('J1 ECL J2 07 JUN 2021\\nTribsees-T28', fontsize=20, **font)\n",
    "ax.legend()\n",
    "\n",
    "plt.show()\n"
   ]
  },
  {
   "cell_type": "code",
   "execution_count": null,
   "metadata": {},
   "outputs": [],
   "source": [
    "fig: Figure = plt.figure(figsize=(16, 9), dpi=300)\n",
    "ax: Axes = fig.add_subplot(fig_rows, fig_cols, 1)\n",
    "tk.plot_by_group_lambda_xy(ax, analyzer.objects_apertures_timestamps({analyzer.fwhm * 3.0, analyzer.fwhm * 3.4}), \n",
    "                           tk.x_datetime, lambda table: tk.local_background(table, 3.0, 3.4))\n",
    "# ax.plot_date(analyzer.frames_timestamps[\"datetime\"], analyzer.frames_timestamps[\"mad_std(img)\"])\n",
    "\n",
    "font = {'fontname':'Times New Roman'}\n",
    "ax.grid()\n",
    "ax.xaxis.set_major_formatter(mdates.DateFormatter(\"%H:%M\"))\n",
    "fmt_minutes = mdates.MinuteLocator()\n",
    "ax.xaxis.set_minor_locator(fmt_minutes)\n",
    "ax.set_xlabel('h(UTC)', fontsize=16, **font)\n",
    "ax.set_ylabel('sky background', fontsize=16, **font)\n",
    "ax.set_title('J1 ECL J2 07 JUN 2021\\nTribsees-T28', fontsize=20, **font)\n",
    "ax.legend()\n",
    "\n",
    "plt.show()\n"
   ]
  },
  {
   "cell_type": "code",
   "execution_count": null,
   "metadata": {},
   "outputs": [],
   "source": [
    "fig: Figure = plt.figure(figsize=(16, 9), dpi=300)\n",
    "ax: Axes = fig.add_subplot(fig_rows, fig_cols, 1)\n",
    "tk.plot_by_group_lambda_xy(ax, analyzer.objects_apertures_timestamps({analyzer.fwhm * 3.0, analyzer.fwhm * 3.4}), \n",
    "                           tk.x_datetime, lambda table: tk.ap_sum_bg_subtracted(table, 3.0, 3.4)/((context[\"fwhm\"]*3.0)**2 * math.pi))\n",
    "\n",
    "font = {'fontname':'Times New Roman'}\n",
    "ax.grid()\n",
    "ax.xaxis.set_major_formatter(mdates.DateFormatter(\"%H:%M\"))\n",
    "fmt_minutes = mdates.MinuteLocator()\n",
    "ax.xaxis.set_minor_locator(fmt_minutes)\n",
    "ax.set_xlabel('h(UTC)', fontsize=16, **font)\n",
    "ax.set_ylabel('light flux of satellite', fontsize=16, **font)\n",
    "ax.set_title('J1 ECL J2 07 JUN 2021\\nTribsees-T28', fontsize=20, **font)\n",
    "ax.legend()\n",
    "\n",
    "plt.show()"
   ]
  },
  {
   "cell_type": "code",
   "execution_count": null,
   "metadata": {},
   "outputs": [],
   "source": [
    "import numpy as np"
   ]
  },
  {
   "cell_type": "code",
   "execution_count": null,
   "metadata": {},
   "outputs": [],
   "source": [
    "data_table = analyzer.objects_apertures_timestamps({analyzer.fwhm * 3.0, analyzer.fwhm * 3.4})"
   ]
  },
  {
   "cell_type": "code",
   "execution_count": null,
   "metadata": {},
   "outputs": [],
   "source": [
    "group_by = \"object\"\n",
    "series_by_object = data_table.group_by(group_by)\n",
    "bin_size = 3.0 # seconds\n",
    "\n",
    "mask_a = series_by_object.groups.keys[group_by] == \"a\"\n",
    "series_a = series_by_object.groups[mask_a]\n",
    "timestamps_a = series_a[\"timestamp\"]\n",
    "timestamps_a_bin = np.trunc(timestamps_a * 1.0/bin_size * 1E-7)\n",
    "series_a_grouped = series_a.group_by(timestamps_a_bin)\n",
    "series_a_grouped[\"timestamp_bin\"] = timestamps_a_bin * bin_size * 1E7\n",
    "series_a_bin = series_a_grouped.groups.aggregate(np.mean)\n",
    "\n",
    "mask_b = series_by_object.groups.keys[group_by] == \"b\"\n",
    "series_b = series_by_object.groups[mask_b]\n",
    "timestamps_b = series_b[\"timestamp\"]\n",
    "timestamps_b_bin = np.trunc(timestamps_b * 1.0/bin_size * 1E-7)\n",
    "series_b_grouped = series_b.group_by(timestamps_b_bin)\n",
    "series_b_grouped[\"timestamp_bin\"] = timestamps_b_bin * bin_size * 1E7\n",
    "series_b_bin = series_b_grouped.groups.aggregate(np.mean)\n"
   ]
  },
  {
   "cell_type": "code",
   "execution_count": null,
   "metadata": {},
   "outputs": [],
   "source": [
    "print(series_a_bin.keys())"
   ]
  },
  {
   "cell_type": "code",
   "execution_count": null,
   "metadata": {},
   "outputs": [],
   "source": [
    "import datetime\n",
    "to_datetime = lambda ts: datetime.datetime.min + datetime.timedelta(seconds=ts/1E7)\n",
    "series_a_bin[\"datetime_bin\"] = list(map(to_datetime, series_a_bin[\"timestamp_bin\"]))\n",
    "series_b_bin[\"datetime_bin\"] = list(map(to_datetime, series_b_bin[\"timestamp_bin\"]))\n"
   ]
  },
  {
   "cell_type": "code",
   "execution_count": null,
   "metadata": {},
   "outputs": [],
   "source": [
    "print(series_a_bin)"
   ]
  },
  {
   "cell_type": "code",
   "execution_count": null,
   "metadata": {},
   "outputs": [],
   "source": [
    "import matplotlib.dates as mdates\n",
    "fig: Figure = plt.figure(figsize=(16, 9), dpi=300)\n",
    "ax: Axes = fig.add_subplot(fig_rows, fig_cols, 1)\n",
    "ax.grid()\n",
    "ax.plot_date(series_a_bin[\"datetime_bin\"], tk.ap_sum_bg_subtracted(series_a_bin, 3.0, 3.4)/((context[\"fwhm\"]*3.0)**2 * math.pi), \"b+\", label=\"Europe\")\n",
    "ax.plot_date(series_b_bin[\"datetime_bin\"], tk.ap_sum_bg_subtracted(series_b_bin, 3.0, 3.4)/((context[\"fwhm\"]*3.0)**2 * math.pi), \"gx\", label=\"Io\")\n",
    "ax.xaxis.set_major_formatter(mdates.DateFormatter(\"%H:%M\"))\n",
    "fmt_minutes = mdates.MinuteLocator()\n",
    "ax.xaxis.set_minor_locator(fmt_minutes)\n",
    "ax.set_xlabel('h(UTC)', fontsize=16, **font)\n",
    "ax.set_ylabel('light flux of satellite', fontsize=16, **font)\n",
    "ax.set_title('J1 ECL J2 07 JUN 2021\\nTribsees-T28', fontsize=20, **font)\n",
    "ax.legend()\n",
    "\n",
    "plt.show()\n"
   ]
  },
  {
   "cell_type": "code",
   "execution_count": null,
   "metadata": {},
   "outputs": [],
   "source": [
    "print(set(series_a_bin[\"datetime_bin\"]) - set(series_b_bin[\"datetime_bin\"]))"
   ]
  },
  {
   "cell_type": "markdown",
   "metadata": {},
   "source": [
    "# Join binned tables "
   ]
  },
  {
   "cell_type": "code",
   "execution_count": null,
   "metadata": {},
   "outputs": [],
   "source": [
    "series_a_bin[\"ap_bg_sub_a_3.0_3.4\"] = tk.ap_sum_bg_subtracted(series_a_bin, 3.0, 3.4)\n",
    "series_b_bin[\"ap_bg_sub_b_3.0_3.4\"] = tk.ap_sum_bg_subtracted(series_b_bin, 3.0, 3.4)"
   ]
  },
  {
   "cell_type": "code",
   "execution_count": null,
   "metadata": {},
   "outputs": [],
   "source": [
    "from astropy.table import Table, join"
   ]
  },
  {
   "cell_type": "code",
   "execution_count": null,
   "metadata": {},
   "outputs": [],
   "source": [
    "join_ab_bins = join(series_a_bin, series_b_bin, keys=\"datetime_bin\", join_type=\"outer\")"
   ]
  },
  {
   "cell_type": "code",
   "execution_count": null,
   "metadata": {},
   "outputs": [],
   "source": [
    "export_join_ab_bins = Table([join_ab_bins[\"datetime_bin\"], join_ab_bins[\"ap_bg_sub_a_3.0_3.4\"], join_ab_bins[\"ap_bg_sub_b_3.0_3.4\"]])"
   ]
  },
  {
   "cell_type": "code",
   "execution_count": null,
   "metadata": {},
   "outputs": [],
   "source": [
    "print(export_join_ab_bins.keys())"
   ]
  },
  {
   "cell_type": "code",
   "execution_count": null,
   "metadata": {},
   "outputs": [],
   "source": [
    "export_join_ab_bins.write(\"test-export.ecsv\")"
   ]
  },
  {
   "cell_type": "code",
   "execution_count": null,
   "metadata": {},
   "outputs": [],
   "source": [
    "print(join_ab_bins.keys())"
   ]
  },
  {
   "cell_type": "code",
   "execution_count": null,
   "metadata": {},
   "outputs": [],
   "source": [
    "print(len(join_ab_bins))"
   ]
  },
  {
   "cell_type": "code",
   "execution_count": null,
   "metadata": {},
   "outputs": [],
   "source": [
    "fig: Figure = plt.figure(figsize=(16, 9), dpi=300)\n",
    "ax: Axes = fig.add_subplot(fig_rows, fig_cols, 1)\n",
    "ax.plot_date(join_ab_bins[\"datetime_bin\"], join_ab_bins[\"ap_bg_sub_a_3.0_3.4\"]/join_ab_bins[\"ap_bg_sub_b_3.0_3.4\"], \"r+\")\n",
    "\n",
    "ax.grid()\n",
    "ax.xaxis.set_major_formatter(mdates.DateFormatter(\"%H:%M\"))\n",
    "fmt_minutes = mdates.MinuteLocator()\n",
    "ax.xaxis.set_minor_locator(fmt_minutes)\n",
    "ax.set_xlabel('h(UTC)', fontsize=16, **font)\n",
    "ax.set_ylabel('relative light flux of Europe', fontsize=16, **font)\n",
    "ax.set_title('J1 ECL J2 07 JUN 2021\\nTribsees-T28', fontsize=20, **font)\n",
    "ax.legend()\n",
    "\n",
    "plt.show()\n"
   ]
  },
  {
   "cell_type": "markdown",
   "metadata": {},
   "source": [
    "# Normalize, then bin"
   ]
  },
  {
   "cell_type": "code",
   "execution_count": null,
   "metadata": {},
   "outputs": [],
   "source": [
    "data_table[\"ap_bg_sub_3.0_3.4\"] = tk.ap_sum_bg_subtracted(data_table, 3.0, 3.4)"
   ]
  },
  {
   "cell_type": "code",
   "execution_count": null,
   "metadata": {},
   "outputs": [],
   "source": [
    "print(len(data_table))"
   ]
  },
  {
   "cell_type": "code",
   "execution_count": null,
   "metadata": {},
   "outputs": [],
   "source": [
    "object_names = [\"a\", \"b\"]\n",
    "series_by_object = data_table.group_by(\"object\")\n",
    "mask_a = series_by_object.groups.keys[\"object\"] == object_names[0]\n",
    "series_a = series_by_object.groups[mask_a]\n",
    "mask_b = series_by_object.groups.keys[\"object\"] == object_names[1]\n",
    "series_b = series_by_object.groups[mask_b]\n",
    "join_ab_frame = join(series_a, series_b, keys=[\"frame_id\"], table_names=object_names)"
   ]
  },
  {
   "cell_type": "code",
   "execution_count": null,
   "metadata": {},
   "outputs": [],
   "source": [
    "print(join_ab_frame.keys())"
   ]
  },
  {
   "cell_type": "code",
   "execution_count": null,
   "metadata": {},
   "outputs": [],
   "source": [
    "fig: Figure = plt.figure(figsize=(16, 9), dpi=300)\n",
    "ax: Axes = fig.add_subplot(fig_rows, fig_cols, 1)\n",
    "ax.grid()\n",
    "ax.plot_date(list(map(to_datetime, join_ab_frame[\"timestamp_a\"])), join_ab_frame[\"ap_bg_sub_3.0_3.4_a\"]/join_ab_frame[\"ap_bg_sub_3.0_3.4_b\"], \"r-\")\n",
    "plt.show()"
   ]
  },
  {
   "cell_type": "code",
   "execution_count": null,
   "metadata": {},
   "outputs": [],
   "source": [
    "bin_size = 3.0 # seconds\n",
    "\n",
    "timestamps_a = join_ab_frame[\"timestamp_a\"]\n",
    "timestamps_a_bin = np.trunc(timestamps_a * 1.0/bin_size * 1E-7)\n",
    "join_ab_frame_grouped = join_ab_frame.group_by(timestamps_a_bin)\n",
    "join_ab_frame_bin = join_ab_frame_grouped.groups.aggregate(np.mean)\n",
    "\n"
   ]
  },
  {
   "cell_type": "code",
   "execution_count": null,
   "metadata": {},
   "outputs": [],
   "source": [
    "print(join_ab_bins.keys())"
   ]
  },
  {
   "cell_type": "code",
   "execution_count": null,
   "metadata": {
    "scrolled": true
   },
   "outputs": [],
   "source": [
    "fig: Figure = plt.figure(figsize=(16, 9), dpi=300)\n",
    "ax1: Axes = fig.add_subplot(2, 1, 1)\n",
    "ax1.grid()\n",
    "ax1.plot_date(list(map(to_datetime, join_ab_frame_bin[\"timestamp_a\"])), join_ab_frame_bin[\"ap_bg_sub_3.0_3.4_a\"]/join_ab_frame_bin[\"ap_bg_sub_3.0_3.4_b\"], \"r-\")\n",
    "ax2: Axes = fig.add_subplot(2, 1, 2)\n",
    "ax2.grid()\n",
    "ax2.plot_date(join_ab_bins[\"datetime_bin\"], join_ab_bins[\"ap_bg_sub_a_3.0_3.4\"]/join_ab_bins[\"ap_bg_sub_b_3.0_3.4\"], \"y-\")\n",
    "plt.show()"
   ]
  },
  {
   "cell_type": "markdown",
   "metadata": {},
   "source": [
    "# Look into further quality criteria"
   ]
  },
  {
   "cell_type": "code",
   "execution_count": null,
   "metadata": {
    "scrolled": true
   },
   "outputs": [],
   "source": [
    "print(analyzer.sources_objects_timestamps.keys())"
   ]
  },
  {
   "cell_type": "code",
   "execution_count": null,
   "metadata": {},
   "outputs": [],
   "source": [
    "print(analyzer.objects_apertures_timestamps({analyzer.fwhm * 3.0, analyzer.fwhm * 3.4}).keys())"
   ]
  },
  {
   "cell_type": "code",
   "execution_count": null,
   "metadata": {},
   "outputs": [],
   "source": [
    "print(analyzer.sources.keys())"
   ]
  },
  {
   "cell_type": "code",
   "execution_count": null,
   "metadata": {},
   "outputs": [],
   "source": [
    "src_ap_3_0_3_4 = join(analyzer.sources, analyzer.objects_apertures_timestamps({analyzer.fwhm * 3.0, analyzer.fwhm * 3.4}))"
   ]
  },
  {
   "cell_type": "code",
   "execution_count": null,
   "metadata": {},
   "outputs": [],
   "source": [
    "print(src_ap_3_0_3_4.keys())"
   ]
  },
  {
   "cell_type": "markdown",
   "metadata": {},
   "source": [
    "## Add column with corrected aperture sum (background subtracted)"
   ]
  },
  {
   "cell_type": "code",
   "execution_count": null,
   "metadata": {},
   "outputs": [],
   "source": [
    "src_ap_3_0_3_4[\"ap_bg_sub_3.0_3.4\"] = tk.ap_sum_bg_subtracted(src_ap_3_0_3_4, 3.0, 3.4)"
   ]
  },
  {
   "cell_type": "code",
   "execution_count": null,
   "metadata": {},
   "outputs": [],
   "source": [
    "print(src_ap_3_0_3_4.keys())"
   ]
  },
  {
   "cell_type": "markdown",
   "metadata": {},
   "source": [
    "## Analyse potential correlations *sharpness*/*roundness* vs flux"
   ]
  },
  {
   "cell_type": "code",
   "execution_count": null,
   "metadata": {},
   "outputs": [],
   "source": [
    "table_by_object = src_ap_3_0_3_4.group_by(\"object\")\n",
    "mask = table_by_object.groups.keys[\"object\"] == \"b\"\n",
    "filtered_table = table_by_object.groups[mask]\n",
    "\n",
    "fig: Figure = plt.figure(figsize=(16, 9), dpi=300)\n",
    "ax: Axes = fig.add_subplot(fig_rows, fig_cols, 1)\n",
    "ax.grid()\n",
    "ax.scatter(filtered_table[\"roundness1\"], filtered_table[\"roundness2\"], \n",
    "           c=filtered_table[\"ap_bg_sub_3.0_3.4\"], s=10.0*filtered_table[\"sharpness\"], alpha=0.5)\n",
    "plt.show()"
   ]
  },
  {
   "cell_type": "code",
   "execution_count": null,
   "metadata": {},
   "outputs": [],
   "source": [
    "fig: Figure = plt.figure(figsize=(9, 9), dpi=300)\n",
    "ax: Axes = fig.add_subplot(fig_rows, fig_cols, 1)\n",
    "ax.grid()\n",
    "ax.hist2d(filtered_table[\"roundness1\"], filtered_table[\"roundness2\"], bins=2**5)\n",
    "plt.show()"
   ]
  },
  {
   "cell_type": "code",
   "execution_count": null,
   "metadata": {},
   "outputs": [],
   "source": [
    "fig_rows, fig_cols = 2, 2\n",
    "fig: Figure = plt.figure(figsize=(16, 9), dpi=300)\n",
    "    \n",
    "ax: Axes = fig.add_subplot(fig_rows, fig_cols, 1)\n",
    "ax.grid()\n",
    "ax.hist(filtered_table[\"roundness1\"], bins=2**6)\n",
    "\n",
    "ax: Axes = fig.add_subplot(fig_rows, fig_cols, 2)\n",
    "ax.grid()\n",
    "ax.hist(filtered_table[\"roundness2\"], bins=2**6)\n",
    "\n",
    "ax: Axes = fig.add_subplot(fig_rows, fig_cols, 3)\n",
    "ax.grid()\n",
    "ax.hist(filtered_table[\"sharpness\"], bins=2**6)\n",
    "\n",
    "plt.show()"
   ]
  },
  {
   "cell_type": "code",
   "execution_count": null,
   "metadata": {},
   "outputs": [],
   "source": [
    "to_datetime_col = lambda table: np.array(list(map(to_datetime, table[\"timestamp\"])))\n",
    "ap_bg_sub_3_0_3_4 = lambda table: np.array(table[\"ap_bg_sub_3.0_3.4\"])"
   ]
  },
  {
   "cell_type": "code",
   "execution_count": null,
   "metadata": {},
   "outputs": [],
   "source": [
    "fig_rows, fig_cols = 1, 1\n",
    "fig: Figure = plt.figure(figsize=(16, 9), dpi=300)\n",
    "    \n",
    "ax: Axes = fig.add_subplot(fig_rows, fig_cols, 1)\n",
    "ax.grid()\n",
    "tk.plot_by_group_lambda_xy(ax, src_ap_3_0_3_4, to_datetime_col, ap_bg_sub_3_0_3_4)\n",
    "plt.show()"
   ]
  },
  {
   "cell_type": "code",
   "execution_count": null,
   "metadata": {},
   "outputs": [],
   "source": [
    "fig_rows, fig_cols = 1, 1\n",
    "fig: Figure = plt.figure(figsize=(16, 9), dpi=300)\n",
    "    \n",
    "src_ap_3_0_3_4_by_sharpness = src_ap_3_0_3_4.group_by(\"sharpness\")\n",
    "mask_sharpness = src_ap_3_0_3_4_by_sharpness.groups.keys[\"sharpness\"] > 0.5\n",
    "\n",
    "    \n",
    "ax: Axes = fig.add_subplot(fig_rows, fig_cols, 1)\n",
    "ax.grid()\n",
    "tk.plot_by_group_lambda_xy(ax, src_ap_3_0_3_4_by_sharpness.groups[mask_sharpness], to_datetime_col, ap_bg_sub_3_0_3_4)\n",
    "plt.show()"
   ]
  }
 ],
 "metadata": {
  "kernelspec": {
   "display_name": "Python 3",
   "language": "python",
   "name": "python3"
  },
  "language_info": {
   "codemirror_mode": {
    "name": "ipython",
    "version": 3
   },
   "file_extension": ".py",
   "mimetype": "text/x-python",
   "name": "python",
   "nbconvert_exporter": "python",
   "pygments_lexer": "ipython3",
   "version": "3.9.1"
  }
 },
 "nbformat": 4,
 "nbformat_minor": 1
}